{
  "cells": [
    {
      "cell_type": "markdown",
      "source": [
        "WORD CLOUD\n",
        "1. Upload the file containting text .\n",
        "2. Instantiate a word cloud object -\n",
        "Set Background & Resolution .\n",
        "3.Set figure(figsize=(40, 40)) to the ratio of resolution\n",
        "for eg\n",
        "400*600 then figsize=(20,30)"
      ],
      "metadata": {
        "id": "DbnDVSF86ech"
      }
    },
    {
      "cell_type": "code",
      "execution_count": null,
      "metadata": {
        "id": "4ZEpEVGFKYqK"
      },
      "outputs": [],
      "source": [
        "# install wordcloud\n",
        "%pip install wordcloud==1.8.\n",
        "# import package and its set of stopwords\n",
        "from wordcloud import WordCloud, STOPWORDS\n",
        "print ('Wordcloud is installed and imported!')"
      ]
    },
    {
      "cell_type": "code",
      "execution_count": null,
      "metadata": {
        "id": "jdrofjcFKdTn"
      },
      "outputs": [],
      "source": [
        "# Upload the File here\n",
        "from google.colab import files\n",
        "uploaded = files.upload()                "
      ]
    },
    {
      "cell_type": "code",
      "execution_count": null,
      "metadata": {
        "id": "zeXf5Y8FLruS"
      },
      "outputs": [],
      "source": [
        "uploaded=str(uploaded)\n",
        "uploaded=uploaded[15:]        #Trim the start , as it contains the file name \n",
        "uploaded                      # Verify the actual Content to be used "
      ]
    },
    {
      "cell_type": "code",
      "execution_count": 4,
      "metadata": {
        "id": "rvQCtaBHL4Df"
      },
      "outputs": [],
      "source": [
        "stopwords = set(STOPWORDS)           # Remove Redundant Words "
      ]
    },
    {
      "cell_type": "code",
      "execution_count": null,
      "metadata": {
        "id": "A_rDyC9uL-Vk"
      },
      "outputs": [],
      "source": [
        "# instantiate a word cloud object\n",
        "my_word_cloud = WordCloud(                              \n",
        "    background_color='black',          # Set background color\n",
        "    width=800, height=800,             # Set Resolution\n",
        "    max_words=2000,                    # Limit the number of Words \n",
        "    stopwords=stopwords\n",
        ")\n",
        "# generate the word cloud\n",
        "my_word_cloud.generate(uploaded)"
      ]
    },
    {
      "cell_type": "code",
      "execution_count": null,
      "metadata": {
        "id": "OhK_hz4tMELa"
      },
      "outputs": [],
      "source": [
        "import matplotlib.pyplot as plt\n",
        "# display the word cloud\n",
        "i=0;\n",
        "while(i<2):                                                            # Set i for number of WordCloud to be displayed \n",
        "  stopwords.add('said')                                                # add the words said to stopwords (words which repeat Often )\n",
        "\n",
        "  # re-generate the word cloud\n",
        "  my_word_cloud.generate(uploaded)\n",
        "  # display the cloud\n",
        "  fig = plt.figure(figsize=(40, 40))         # Set size for Different Size Of Images\n",
        "\n",
        "  plt.imshow(my_word_cloud, interpolation='bilinear')\n",
        "  plt.axis('off')\n",
        "\n",
        "  plt.show()\n",
        "  i=i+1"
      ]
    }
  ],
  "metadata": {
    "colab": {
      "name": "Word_Cloud_Graphics.ipynb",
      "provenance": []
    },
    "kernelspec": {
      "display_name": "Python 3",
      "name": "python3"
    },
    "language_info": {
      "name": "python"
    }
  },
  "nbformat": 4,
  "nbformat_minor": 0
}